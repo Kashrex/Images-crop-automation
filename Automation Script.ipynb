{
 "cells": [
  {
   "cell_type": "markdown",
   "id": "93442577",
   "metadata": {},
   "source": [
    "# Image Automation"
   ]
  },
  {
   "cell_type": "markdown",
   "id": "c5870b73",
   "metadata": {},
   "source": [
    "### Description: This Project is based on Python. This tool automates the process of cropping all the images in a directory to a specific dimension in just one click and creating a pdf."
   ]
  },
  {
   "cell_type": "markdown",
   "id": "b6eeaf53",
   "metadata": {},
   "source": [
    "##### Starting with package installation"
   ]
  },
  {
   "cell_type": "code",
   "execution_count": null,
   "id": "8459ab72",
   "metadata": {},
   "outputs": [],
   "source": [
    "pip install PIL"
   ]
  },
  {
   "cell_type": "code",
   "execution_count": null,
   "id": "16adcc21",
   "metadata": {},
   "outputs": [],
   "source": [
    "pip install Pillow fpdf"
   ]
  },
  {
   "cell_type": "markdown",
   "id": "e55afd4a",
   "metadata": {},
   "source": [
    "##### importing packages"
   ]
  },
  {
   "cell_type": "code",
   "execution_count": 11,
   "id": "9608344a",
   "metadata": {},
   "outputs": [],
   "source": [
    "import os\n",
    "from PIL import Image\n",
    "from fpdf import FPDF"
   ]
  },
  {
   "cell_type": "markdown",
   "id": "6907b5f4",
   "metadata": {},
   "source": [
    "##### directory"
   ]
  },
  {
   "cell_type": "code",
   "execution_count": 3,
   "id": "be48323f",
   "metadata": {},
   "outputs": [],
   "source": [
    "directory = 'C:\\\\Users\\\\aakas\\\\Pictures\\\\Screenshots\\\\New folder'"
   ]
  },
  {
   "cell_type": "markdown",
   "id": "1fe56bbd",
   "metadata": {},
   "source": [
    "##### Looping through all the files to fetch names."
   ]
  },
  {
   "cell_type": "code",
   "execution_count": 5,
   "id": "ddfe4f19",
   "metadata": {},
   "outputs": [
    {
     "name": "stdout",
     "output_type": "stream",
     "text": [
      "Screenshot (183).png: (1920, 1080)\n",
      "Screenshot (184).png: (1920, 1080)\n",
      "Screenshot (185).png: (1920, 1080)\n",
      "Screenshot (186).png: (1920, 1080)\n",
      "Screenshot (187).png: (1920, 1080)\n",
      "Screenshot (188).png: (1920, 1080)\n",
      "Screenshot (189).png: (1920, 1080)\n",
      "Screenshot (190).png: (1920, 1080)\n",
      "Screenshot (191).png: (1920, 1080)\n",
      "Screenshot (192).png: (1920, 1080)\n",
      "Screenshot (193).png: (1920, 1080)\n",
      "Screenshot (194).png: (1920, 1080)\n",
      "Screenshot (195).png: (1920, 1080)\n",
      "Screenshot (196).png: (1920, 1080)\n",
      "Screenshot (197).png: (1920, 1080)\n",
      "Screenshot (198).png: (1920, 1080)\n",
      "Screenshot (199).png: (1920, 1080)\n",
      "Screenshot (200).png: (1920, 1080)\n",
      "Screenshot (201).png: (1920, 1080)\n",
      "Screenshot (202).png: (1920, 1080)\n",
      "Screenshot (203).png: (1920, 1080)\n",
      "Screenshot (204).png: (1920, 1080)\n",
      "Screenshot (205).png: (1920, 1080)\n",
      "Screenshot (206).png: (1920, 1080)\n",
      "Screenshot (207).png: (1920, 1080)\n",
      "Screenshot (208).png: (1920, 1080)\n",
      "Screenshot (209).png: (1920, 1080)\n",
      "Screenshot (210).png: (1920, 1080)\n",
      "Screenshot (211).png: (1920, 1080)\n",
      "Screenshot (212).png: (1920, 1080)\n",
      "Screenshot (213).png: (1920, 1080)\n",
      "Screenshot (214).png: (1920, 1080)\n",
      "Screenshot (215).png: (1920, 1080)\n",
      "Screenshot (216).png: (1920, 1080)\n",
      "Screenshot (217).png: (1920, 1080)\n",
      "Screenshot (218).png: (1920, 1080)\n",
      "Screenshot (219).png: (1920, 1080)\n",
      "Screenshot (220).png: (1920, 1080)\n",
      "Screenshot (221).png: (1920, 1080)\n",
      "Screenshot (222).png: (1920, 1080)\n",
      "Screenshot (223).png: (1920, 1080)\n",
      "Screenshot (224).png: (1920, 1080)\n",
      "Screenshot (225).png: (1920, 1080)\n"
     ]
    }
   ],
   "source": [
    "for filename in os.listdir(directory):\n",
    "    if filename.endswith('.jpg') or filename.endswith('.png'):  # or whatever other file types you are working with\n",
    "        filepath = os.path.join(directory, filename)\n",
    "        img = Image.open(filepath)\n",
    "        print(f'{filename}: {img.size}')"
   ]
  },
  {
   "cell_type": "markdown",
   "id": "b8276d88",
   "metadata": {},
   "source": [
    "##### Setting input and output directory and dimension for crop."
   ]
  },
  {
   "cell_type": "code",
   "execution_count": 9,
   "id": "004cea6e",
   "metadata": {},
   "outputs": [],
   "source": [
    "# Set the directory containing the images\n",
    "input_directory = r'C:\\\\Users\\\\aakas\\\\Pictures\\\\Screenshots\\\\New folder'\n",
    "\n",
    "# Set the dimensions for the cropped image\n",
    "width, height = 1600, 800\n",
    "\n",
    "# Set the directory for saving the cropped images\n",
    "output_directory = r'C:\\\\Users\\\\aakas\\\\Pictures\\\\Screenshots\\\\New Folder\\\\cropped'\n",
    "\n",
    "# Create the output directory if it doesn't exist\n",
    "if not os.path.exists(output_directory):\n",
    "    os.makedirs(output_directory)\n",
    "\n"
   ]
  },
  {
   "cell_type": "markdown",
   "id": "bfc70b24",
   "metadata": {},
   "source": [
    "##### Main Code for Automation"
   ]
  },
  {
   "cell_type": "code",
   "execution_count": null,
   "id": "74240498",
   "metadata": {},
   "outputs": [],
   "source": [
    "# Loop through all the images in the input directory\n",
    "for filename in os.listdir(input_directory):\n",
    "    if filename.endswith('.jpg') or filename.endswith('.png'):\n",
    "        # Open the image\n",
    "        img = Image.open(os.path.join(input_directory, filename))\n",
    "\n",
    "        # Convert the image to RGB mode\n",
    "        img = img.convert('RGB')\n",
    "\n",
    "        # Get the dimensions of the image\n",
    "        img_width, img_height = img.size\n",
    "\n",
    "        # Calculate the coordinates for cropping\n",
    "        left = (img_width - width) / 2\n",
    "        top = (img_height - height) / 2\n",
    "        right = (img_width + width) / 2\n",
    "        bottom = (img_height + height) / 2\n",
    "\n",
    "        # Crop the image\n",
    "        cropped_img = img.crop((left, top, right, bottom))\n",
    "\n",
    "        # Save the cropped image\n",
    "        \n",
    "        new_filename = f'{counter}.jpg'\n",
    "        cropped_img.save(os.path.join(output_directory, new_filename))\n",
    "\n",
    "        # Increment the counter\n",
    "        counter += 1"
   ]
  },
  {
   "cell_type": "markdown",
   "id": "27c6c23c",
   "metadata": {},
   "source": [
    "#### Make Pdf"
   ]
  },
  {
   "cell_type": "code",
   "execution_count": 12,
   "id": "8f3a65da",
   "metadata": {},
   "outputs": [],
   "source": [
    "###def create_pdf_from_images(directory, output_file):\n",
    "    pdf = FPDF()\n",
    "\n",
    "    # Get all image files in the directory\n",
    "    image_files = [file for file in os.listdir(directory) if file.lower().endswith(('.png', '.jpg', '.jpeg'))]\n",
    "\n",
    "    for image_file in image_files:\n",
    "        image_path = os.path.join(directory, image_file)\n",
    "\n",
    "        # Open the image file using PIL\n",
    "        image = Image.open(image_path)\n",
    "\n",
    "        # Convert the image to RGB format (optional)\n",
    "        image = image.convert('RGB')\n",
    "\n",
    "        # Resize the image to fit the PDF page (adjust the dimensions as needed)\n",
    "        pdf.add_page()\n",
    "        pdf.image(image_path, x=10, y=10, w=pdf.w - 20)\n",
    "\n",
    "    # Save the PDF file\n",
    "    pdf.output(output_file)\n",
    "\n",
    "# Usage example\n",
    "directory_path = 'C:\\\\Users\\\\aakas\\\\Pictures\\\\Screenshots\\\\New Folder\\\\cropped'\n",
    "output_pdf_file = 'C:\\\\Users\\\\aakas\\\\Pictures\\\\Screenshots\\\\New Folder\\\\cropped\\\\file.pdf'\n",
    "create_pdf_from_images(directory_path, output_pdf_file)###"
   ]
  },
  {
   "cell_type": "markdown",
   "id": "e69efee6",
   "metadata": {},
   "source": [
    "#### Make Pdf with dimension"
   ]
  },
  {
   "cell_type": "code",
   "execution_count": 14,
   "id": "d088d3ea",
   "metadata": {},
   "outputs": [],
   "source": [
    "def create_pdf_from_images(directory, output_file):\n",
    "    pdf = FPDF(unit='pt', format=(1600, 800))\n",
    "\n",
    "    # Get all image files in the directory\n",
    "    image_files = [file for file in os.listdir(directory) if file.lower().endswith(('.png', '.jpg', '.jpeg'))]\n",
    "\n",
    "    for image_file in image_files:\n",
    "        image_path = os.path.join(directory, image_file)\n",
    "\n",
    "        # Open the image file using PIL\n",
    "        image = Image.open(image_path)\n",
    "\n",
    "        # Convert the image to RGB format (optional)\n",
    "        image = image.convert('RGB')\n",
    "\n",
    "        # Resize the image to fit the PDF page\n",
    "        image = image.resize((1600, 800))\n",
    "\n",
    "        # Add the resized image to the PDF page\n",
    "        pdf.add_page()\n",
    "        pdf.image(image_path, x=0, y=0)\n",
    "\n",
    "    # Save the PDF file\n",
    "    pdf.output(output_file)\n",
    "\n",
    "# Usage example\n",
    "directory_path = 'C:\\\\Users\\\\aakas\\\\Pictures\\\\Screenshots\\\\New Folder\\\\cropped'\n",
    "output_pdf_file = 'C:\\\\Users\\\\aakas\\\\Pictures\\\\Screenshots\\\\New Folder\\\\cropped\\\\file1.pdf'\n",
    "create_pdf_from_images(directory_path, output_pdf_file)"
   ]
  },
  {
   "cell_type": "code",
   "execution_count": null,
   "id": "b01bd2a2",
   "metadata": {},
   "outputs": [],
   "source": []
  }
 ],
 "metadata": {
  "kernelspec": {
   "display_name": "Python 3 (ipykernel)",
   "language": "python",
   "name": "python3"
  },
  "language_info": {
   "codemirror_mode": {
    "name": "ipython",
    "version": 3
   },
   "file_extension": ".py",
   "mimetype": "text/x-python",
   "name": "python",
   "nbconvert_exporter": "python",
   "pygments_lexer": "ipython3",
   "version": "3.10.9"
  }
 },
 "nbformat": 4,
 "nbformat_minor": 5
}
